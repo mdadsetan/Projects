{
  "cells": [
    {
      "cell_type": "markdown",
      "metadata": {
        "id": "view-in-github",
        "colab_type": "text"
      },
      "source": [
        "<a href=\"https://colab.research.google.com/github/mdadsetan/Projects/blob/main/Pandas_basics.ipynb\" target=\"_parent\"><img src=\"https://colab.research.google.com/assets/colab-badge.svg\" alt=\"Open In Colab\"/></a>"
      ]
    },
    {
      "cell_type": "markdown",
      "metadata": {
        "id": "Isno3VpZfL-7"
      },
      "source": [
        "## Pandas Basics"
      ]
    },
    {
      "cell_type": "code",
      "execution_count": 1,
      "metadata": {
        "id": "_8bWBHEnfL--"
      },
      "outputs": [],
      "source": [
        "import pandas as pd\n",
        "import numpy as np\n",
        "import matplotlib.pyplot as plt"
      ]
    },
    {
      "cell_type": "code",
      "execution_count": null,
      "metadata": {
        "id": "DwLy4urFfL-_"
      },
      "outputs": [],
      "source": [
        "s = pd.Series(np.random.randn(5), index=['a','b', 'c', 'd', 'e'])"
      ]
    },
    {
      "cell_type": "code",
      "execution_count": null,
      "metadata": {
        "id": "Gj0FetX0fL_A",
        "outputId": "c521f641-944e-430e-aee7-b270d86d8777"
      },
      "outputs": [
        {
          "data": {
            "text/plain": [
              "a   -0.474861\n",
              "b    1.007030\n",
              "c    0.711212\n",
              "d    0.404818\n",
              "e   -0.442783\n",
              "dtype: float64"
            ]
          },
          "execution_count": 3,
          "metadata": {},
          "output_type": "execute_result"
        }
      ],
      "source": [
        "s"
      ]
    },
    {
      "cell_type": "code",
      "execution_count": null,
      "metadata": {
        "id": "Wj56cqm1fL_B",
        "outputId": "e2025f51-70f2-4bf9-91f9-9b116f5558f1"
      },
      "outputs": [
        {
          "data": {
            "text/plain": [
              "0    0.621210\n",
              "1    0.251072\n",
              "2    0.985413\n",
              "3    1.012971\n",
              "4    1.363130\n",
              "dtype: float64"
            ]
          },
          "execution_count": 4,
          "metadata": {},
          "output_type": "execute_result"
        }
      ],
      "source": [
        "s1 = pd.Series(np.random.randn(5))\n",
        "s1"
      ]
    },
    {
      "cell_type": "code",
      "execution_count": null,
      "metadata": {
        "id": "Wsg45rY8fL_C",
        "outputId": "64452127-ef1a-4a6d-b428-072d1af034b9"
      },
      "outputs": [
        {
          "data": {
            "text/plain": [
              "a   -0.474861\n",
              "b    1.007030\n",
              "c    0.711212\n",
              "d    0.404818\n",
              "e   -0.442783\n",
              "dtype: float64"
            ]
          },
          "execution_count": 5,
          "metadata": {},
          "output_type": "execute_result"
        }
      ],
      "source": [
        "s"
      ]
    },
    {
      "cell_type": "code",
      "execution_count": null,
      "metadata": {
        "id": "VGtA-7p2fL_C",
        "outputId": "60b20944-02a7-45a4-a199-dce2ef60b9f4"
      },
      "outputs": [
        {
          "data": {
            "text/plain": [
              "Index(['a', 'b', 'c', 'd', 'e'], dtype='object')"
            ]
          },
          "execution_count": 6,
          "metadata": {},
          "output_type": "execute_result"
        }
      ],
      "source": [
        "s.index"
      ]
    },
    {
      "cell_type": "code",
      "execution_count": null,
      "metadata": {
        "id": "tW84iVn9fL_C",
        "outputId": "91533010-4964-4735-9f5a-e9d03f29c5f1"
      },
      "outputs": [
        {
          "data": {
            "text/plain": [
              "0    0.287444\n",
              "1   -0.460898\n",
              "2   -2.685491\n",
              "3   -0.415316\n",
              "4   -0.070635\n",
              "dtype: float64"
            ]
          },
          "execution_count": 7,
          "metadata": {},
          "output_type": "execute_result"
        }
      ],
      "source": [
        "pd.Series(np.random.randn(5))"
      ]
    },
    {
      "cell_type": "code",
      "execution_count": null,
      "metadata": {
        "id": "dIB2YqETfL_C"
      },
      "outputs": [],
      "source": [
        "d = {'a' : 0., 'b' : 1., 'c' : 2.}"
      ]
    },
    {
      "cell_type": "code",
      "execution_count": null,
      "metadata": {
        "id": "NDSEGCi8fL_D",
        "outputId": "10b25ad5-7d03-452c-933e-118dcf195054"
      },
      "outputs": [
        {
          "data": {
            "text/plain": [
              "a    0.0\n",
              "b    1.0\n",
              "c    2.0\n",
              "dtype: float64"
            ]
          },
          "execution_count": 9,
          "metadata": {},
          "output_type": "execute_result"
        }
      ],
      "source": [
        "pd.Series(d)"
      ]
    },
    {
      "cell_type": "code",
      "execution_count": null,
      "metadata": {
        "id": "R_JQaZNZfL_D",
        "outputId": "6874eb7a-f42f-4638-977b-d8535d6c8855"
      },
      "outputs": [
        {
          "data": {
            "text/plain": [
              "b    1.0\n",
              "c    2.0\n",
              "d    NaN\n",
              "a    0.0\n",
              "dtype: float64"
            ]
          },
          "execution_count": 10,
          "metadata": {},
          "output_type": "execute_result"
        }
      ],
      "source": [
        "pd.Series(d, index=['b', 'c', 'd', 'a'])"
      ]
    },
    {
      "cell_type": "code",
      "execution_count": null,
      "metadata": {
        "id": "63H_EFcbfL_D",
        "outputId": "0d6fbac2-b47f-41b9-8232-ad5c2975469f"
      },
      "outputs": [
        {
          "data": {
            "text/plain": [
              "a    5.0\n",
              "b    5.0\n",
              "c    5.0\n",
              "d    5.0\n",
              "e    5.0\n",
              "dtype: float64"
            ]
          },
          "execution_count": 11,
          "metadata": {},
          "output_type": "execute_result"
        }
      ],
      "source": [
        "pd.Series(5., index=['a', 'b', 'c', 'd', 'e'])"
      ]
    },
    {
      "cell_type": "code",
      "execution_count": null,
      "metadata": {
        "id": "vFZeUKxhfL_D",
        "outputId": "1149a825-0ecd-4d16-d311-139be8516c2e"
      },
      "outputs": [
        {
          "data": {
            "text/plain": [
              "-0.47486101767782807"
            ]
          },
          "execution_count": 12,
          "metadata": {},
          "output_type": "execute_result"
        }
      ],
      "source": [
        "s[0]"
      ]
    },
    {
      "cell_type": "code",
      "execution_count": null,
      "metadata": {
        "id": "Q7MZhsL-fL_E",
        "outputId": "0788bc72-f7b9-4769-efb6-bc8ac04aa70c"
      },
      "outputs": [
        {
          "data": {
            "text/plain": [
              "a   -0.474861\n",
              "b    1.007030\n",
              "c    0.711212\n",
              "dtype: float64"
            ]
          },
          "execution_count": 13,
          "metadata": {},
          "output_type": "execute_result"
        }
      ],
      "source": [
        "s[:3]"
      ]
    },
    {
      "cell_type": "code",
      "execution_count": null,
      "metadata": {
        "id": "3SePxLn3fL_E",
        "outputId": "2e7c988e-b179-442d-ad27-47cd2abd5183"
      },
      "outputs": [
        {
          "data": {
            "text/plain": [
              "-0.47486101767782807"
            ]
          },
          "execution_count": 14,
          "metadata": {},
          "output_type": "execute_result"
        }
      ],
      "source": [
        "s['a']"
      ]
    },
    {
      "cell_type": "code",
      "execution_count": null,
      "metadata": {
        "id": "2g4jBOoffL_E"
      },
      "outputs": [],
      "source": [
        "s['e'] = 12."
      ]
    },
    {
      "cell_type": "code",
      "execution_count": null,
      "metadata": {
        "id": "s2eDb8esfL_E",
        "outputId": "36f53dbb-f2d8-481d-eba8-fb1709d576a4"
      },
      "outputs": [
        {
          "data": {
            "text/plain": [
              "a    -0.474861\n",
              "b     1.007030\n",
              "c     0.711212\n",
              "d     0.404818\n",
              "e    12.000000\n",
              "dtype: float64"
            ]
          },
          "execution_count": 16,
          "metadata": {},
          "output_type": "execute_result"
        }
      ],
      "source": [
        "s"
      ]
    },
    {
      "cell_type": "code",
      "execution_count": null,
      "metadata": {
        "id": "uSTftbPIfL_F",
        "outputId": "f8f17bbb-872f-4975-845f-dc683d4310cf"
      },
      "outputs": [
        {
          "data": {
            "text/plain": [
              "-0.47486101767782807"
            ]
          },
          "execution_count": 17,
          "metadata": {},
          "output_type": "execute_result"
        }
      ],
      "source": [
        "s.get('a')"
      ]
    },
    {
      "cell_type": "code",
      "execution_count": null,
      "metadata": {
        "id": "YTs7n841fL_F"
      },
      "outputs": [],
      "source": [
        "ts1 = pd.Series(np.random.randn(5))\n",
        "ts2 = pd.Series(np.random.randn(5))"
      ]
    },
    {
      "cell_type": "code",
      "execution_count": null,
      "metadata": {
        "id": "AcqdYf75fL_F",
        "outputId": "18697d2a-ae70-46d4-e013-3ce8ce8cf1f4"
      },
      "outputs": [
        {
          "data": {
            "text/plain": [
              "0    1.168386\n",
              "1   -0.682811\n",
              "2    0.277059\n",
              "3   -0.883076\n",
              "4    0.814609\n",
              "dtype: float64"
            ]
          },
          "execution_count": 19,
          "metadata": {},
          "output_type": "execute_result"
        }
      ],
      "source": [
        "ts1"
      ]
    },
    {
      "cell_type": "code",
      "execution_count": null,
      "metadata": {
        "id": "DTvJsTCbfL_F",
        "outputId": "97e757ec-ddc7-4e39-a6a7-72c3184e56cf"
      },
      "outputs": [
        {
          "data": {
            "text/plain": [
              "0    0.151163\n",
              "1    0.409715\n",
              "2    0.277299\n",
              "3    0.140069\n",
              "4   -0.076925\n",
              "dtype: float64"
            ]
          },
          "execution_count": 20,
          "metadata": {},
          "output_type": "execute_result"
        }
      ],
      "source": [
        "ts2"
      ]
    },
    {
      "cell_type": "code",
      "execution_count": null,
      "metadata": {
        "id": "iqguaRV8fL_G",
        "outputId": "fd3457f5-953b-4316-ead9-3906eeeca033"
      },
      "outputs": [
        {
          "data": {
            "text/plain": [
              "{'col1': 0    1.168386\n",
              " 1   -0.682811\n",
              " 2    0.277059\n",
              " 3   -0.883076\n",
              " 4    0.814609\n",
              " dtype: float64,\n",
              " 'col2': 0    0.151163\n",
              " 1    0.409715\n",
              " 2    0.277299\n",
              " 3    0.140069\n",
              " 4   -0.076925\n",
              " dtype: float64}"
            ]
          },
          "execution_count": 21,
          "metadata": {},
          "output_type": "execute_result"
        }
      ],
      "source": [
        "d = {'col1': ts1, 'col2': ts2}\n",
        "d"
      ]
    },
    {
      "cell_type": "code",
      "execution_count": null,
      "metadata": {
        "id": "7qb9LCFyfL_G",
        "outputId": "def96bef-9fb9-4bf6-c51c-778c14740c6c"
      },
      "outputs": [
        {
          "data": {
            "text/html": [
              "<div>\n",
              "<style scoped>\n",
              "    .dataframe tbody tr th:only-of-type {\n",
              "        vertical-align: middle;\n",
              "    }\n",
              "\n",
              "    .dataframe tbody tr th {\n",
              "        vertical-align: top;\n",
              "    }\n",
              "\n",
              "    .dataframe thead th {\n",
              "        text-align: right;\n",
              "    }\n",
              "</style>\n",
              "<table border=\"1\" class=\"dataframe\">\n",
              "  <thead>\n",
              "    <tr style=\"text-align: right;\">\n",
              "      <th></th>\n",
              "      <th>col1</th>\n",
              "      <th>col2</th>\n",
              "    </tr>\n",
              "  </thead>\n",
              "  <tbody>\n",
              "    <tr>\n",
              "      <th>0</th>\n",
              "      <td>1.168386</td>\n",
              "      <td>0.151163</td>\n",
              "    </tr>\n",
              "    <tr>\n",
              "      <th>1</th>\n",
              "      <td>-0.682811</td>\n",
              "      <td>0.409715</td>\n",
              "    </tr>\n",
              "    <tr>\n",
              "      <th>2</th>\n",
              "      <td>0.277059</td>\n",
              "      <td>0.277299</td>\n",
              "    </tr>\n",
              "    <tr>\n",
              "      <th>3</th>\n",
              "      <td>-0.883076</td>\n",
              "      <td>0.140069</td>\n",
              "    </tr>\n",
              "    <tr>\n",
              "      <th>4</th>\n",
              "      <td>0.814609</td>\n",
              "      <td>-0.076925</td>\n",
              "    </tr>\n",
              "  </tbody>\n",
              "</table>\n",
              "</div>"
            ],
            "text/plain": [
              "       col1      col2\n",
              "0  1.168386  0.151163\n",
              "1 -0.682811  0.409715\n",
              "2  0.277059  0.277299\n",
              "3 -0.883076  0.140069\n",
              "4  0.814609 -0.076925"
            ]
          },
          "execution_count": 22,
          "metadata": {},
          "output_type": "execute_result"
        }
      ],
      "source": [
        "df1 = pd.DataFrame(data = d)\n",
        "df1"
      ]
    },
    {
      "cell_type": "code",
      "execution_count": null,
      "metadata": {
        "id": "I9iFFjv_fL_G",
        "outputId": "27cf1ead-e268-4dc4-e949-d470f665cd1f"
      },
      "outputs": [
        {
          "data": {
            "text/html": [
              "<div>\n",
              "<style scoped>\n",
              "    .dataframe tbody tr th:only-of-type {\n",
              "        vertical-align: middle;\n",
              "    }\n",
              "\n",
              "    .dataframe tbody tr th {\n",
              "        vertical-align: top;\n",
              "    }\n",
              "\n",
              "    .dataframe thead th {\n",
              "        text-align: right;\n",
              "    }\n",
              "</style>\n",
              "<table border=\"1\" class=\"dataframe\">\n",
              "  <thead>\n",
              "    <tr style=\"text-align: right;\">\n",
              "      <th></th>\n",
              "      <th>0</th>\n",
              "      <th>1</th>\n",
              "      <th>2</th>\n",
              "      <th>3</th>\n",
              "      <th>4</th>\n",
              "    </tr>\n",
              "  </thead>\n",
              "  <tbody>\n",
              "    <tr>\n",
              "      <th>0</th>\n",
              "      <td>-0.547462</td>\n",
              "      <td>-0.132650</td>\n",
              "      <td>-1.206209</td>\n",
              "      <td>1.106348</td>\n",
              "      <td>-1.766640</td>\n",
              "    </tr>\n",
              "    <tr>\n",
              "      <th>1</th>\n",
              "      <td>-0.806359</td>\n",
              "      <td>1.426332</td>\n",
              "      <td>0.218171</td>\n",
              "      <td>1.267118</td>\n",
              "      <td>-2.953310</td>\n",
              "    </tr>\n",
              "    <tr>\n",
              "      <th>2</th>\n",
              "      <td>1.417417</td>\n",
              "      <td>-0.487572</td>\n",
              "      <td>-0.334680</td>\n",
              "      <td>0.657879</td>\n",
              "      <td>-1.642899</td>\n",
              "    </tr>\n",
              "    <tr>\n",
              "      <th>3</th>\n",
              "      <td>-1.572561</td>\n",
              "      <td>-0.053096</td>\n",
              "      <td>-0.064761</td>\n",
              "      <td>-0.525677</td>\n",
              "      <td>0.808625</td>\n",
              "    </tr>\n",
              "    <tr>\n",
              "      <th>4</th>\n",
              "      <td>1.866332</td>\n",
              "      <td>0.381334</td>\n",
              "      <td>0.700117</td>\n",
              "      <td>0.800405</td>\n",
              "      <td>-1.044607</td>\n",
              "    </tr>\n",
              "    <tr>\n",
              "      <th>5</th>\n",
              "      <td>0.663966</td>\n",
              "      <td>-0.393501</td>\n",
              "      <td>-0.197441</td>\n",
              "      <td>-1.434965</td>\n",
              "      <td>0.953196</td>\n",
              "    </tr>\n",
              "    <tr>\n",
              "      <th>6</th>\n",
              "      <td>0.412485</td>\n",
              "      <td>-0.371752</td>\n",
              "      <td>0.743757</td>\n",
              "      <td>0.855371</td>\n",
              "      <td>0.690641</td>\n",
              "    </tr>\n",
              "    <tr>\n",
              "      <th>7</th>\n",
              "      <td>2.008028</td>\n",
              "      <td>0.562988</td>\n",
              "      <td>0.907756</td>\n",
              "      <td>-1.210347</td>\n",
              "      <td>0.312742</td>\n",
              "    </tr>\n",
              "    <tr>\n",
              "      <th>8</th>\n",
              "      <td>-0.002208</td>\n",
              "      <td>0.879248</td>\n",
              "      <td>0.584582</td>\n",
              "      <td>0.843925</td>\n",
              "      <td>0.071880</td>\n",
              "    </tr>\n",
              "    <tr>\n",
              "      <th>9</th>\n",
              "      <td>-0.825448</td>\n",
              "      <td>-1.338986</td>\n",
              "      <td>0.899929</td>\n",
              "      <td>2.131111</td>\n",
              "      <td>-0.420856</td>\n",
              "    </tr>\n",
              "  </tbody>\n",
              "</table>\n",
              "</div>"
            ],
            "text/plain": [
              "          0         1         2         3         4\n",
              "0 -0.547462 -0.132650 -1.206209  1.106348 -1.766640\n",
              "1 -0.806359  1.426332  0.218171  1.267118 -2.953310\n",
              "2  1.417417 -0.487572 -0.334680  0.657879 -1.642899\n",
              "3 -1.572561 -0.053096 -0.064761 -0.525677  0.808625\n",
              "4  1.866332  0.381334  0.700117  0.800405 -1.044607\n",
              "5  0.663966 -0.393501 -0.197441 -1.434965  0.953196\n",
              "6  0.412485 -0.371752  0.743757  0.855371  0.690641\n",
              "7  2.008028  0.562988  0.907756 -1.210347  0.312742\n",
              "8 -0.002208  0.879248  0.584582  0.843925  0.071880\n",
              "9 -0.825448 -1.338986  0.899929  2.131111 -0.420856"
            ]
          },
          "execution_count": 23,
          "metadata": {},
          "output_type": "execute_result"
        }
      ],
      "source": [
        "df2 = pd.DataFrame(np.random.randn(10, 5))\n",
        "df2"
      ]
    },
    {
      "cell_type": "code",
      "execution_count": null,
      "metadata": {
        "id": "JJXZOOTGfL_H",
        "outputId": "035a4f8c-8c54-4c6a-8f85-f5bbc8234955"
      },
      "outputs": [
        {
          "data": {
            "text/html": [
              "<div>\n",
              "<style scoped>\n",
              "    .dataframe tbody tr th:only-of-type {\n",
              "        vertical-align: middle;\n",
              "    }\n",
              "\n",
              "    .dataframe tbody tr th {\n",
              "        vertical-align: top;\n",
              "    }\n",
              "\n",
              "    .dataframe thead th {\n",
              "        text-align: right;\n",
              "    }\n",
              "</style>\n",
              "<table border=\"1\" class=\"dataframe\">\n",
              "  <thead>\n",
              "    <tr style=\"text-align: right;\">\n",
              "      <th></th>\n",
              "      <th>a</th>\n",
              "      <th>b</th>\n",
              "      <th>c</th>\n",
              "      <th>d</th>\n",
              "      <th>e</th>\n",
              "    </tr>\n",
              "  </thead>\n",
              "  <tbody>\n",
              "    <tr>\n",
              "      <th>0</th>\n",
              "      <td>-1.075334</td>\n",
              "      <td>-0.236028</td>\n",
              "      <td>0.581082</td>\n",
              "      <td>-0.580072</td>\n",
              "      <td>-2.079002</td>\n",
              "    </tr>\n",
              "    <tr>\n",
              "      <th>1</th>\n",
              "      <td>-1.293073</td>\n",
              "      <td>1.134725</td>\n",
              "      <td>0.472532</td>\n",
              "      <td>1.452970</td>\n",
              "      <td>-0.544775</td>\n",
              "    </tr>\n",
              "    <tr>\n",
              "      <th>2</th>\n",
              "      <td>0.866617</td>\n",
              "      <td>1.024130</td>\n",
              "      <td>0.769944</td>\n",
              "      <td>-0.509043</td>\n",
              "      <td>-0.185709</td>\n",
              "    </tr>\n",
              "    <tr>\n",
              "      <th>3</th>\n",
              "      <td>-0.259168</td>\n",
              "      <td>0.164433</td>\n",
              "      <td>1.277938</td>\n",
              "      <td>-2.551970</td>\n",
              "      <td>-0.019413</td>\n",
              "    </tr>\n",
              "    <tr>\n",
              "      <th>4</th>\n",
              "      <td>0.582203</td>\n",
              "      <td>1.579913</td>\n",
              "      <td>-0.522563</td>\n",
              "      <td>-0.151699</td>\n",
              "      <td>-0.108438</td>\n",
              "    </tr>\n",
              "    <tr>\n",
              "      <th>5</th>\n",
              "      <td>-0.914143</td>\n",
              "      <td>-0.801934</td>\n",
              "      <td>-0.931405</td>\n",
              "      <td>-1.983910</td>\n",
              "      <td>-0.147988</td>\n",
              "    </tr>\n",
              "    <tr>\n",
              "      <th>6</th>\n",
              "      <td>0.900639</td>\n",
              "      <td>-0.922381</td>\n",
              "      <td>1.205711</td>\n",
              "      <td>0.556313</td>\n",
              "      <td>-0.633686</td>\n",
              "    </tr>\n",
              "    <tr>\n",
              "      <th>7</th>\n",
              "      <td>-0.099929</td>\n",
              "      <td>-0.685316</td>\n",
              "      <td>2.215074</td>\n",
              "      <td>-1.085490</td>\n",
              "      <td>-1.880266</td>\n",
              "    </tr>\n",
              "    <tr>\n",
              "      <th>8</th>\n",
              "      <td>-2.008625</td>\n",
              "      <td>-0.349689</td>\n",
              "      <td>-0.407959</td>\n",
              "      <td>0.839538</td>\n",
              "      <td>-1.697807</td>\n",
              "    </tr>\n",
              "    <tr>\n",
              "      <th>9</th>\n",
              "      <td>-0.763133</td>\n",
              "      <td>0.832593</td>\n",
              "      <td>-0.248014</td>\n",
              "      <td>0.306875</td>\n",
              "      <td>1.555595</td>\n",
              "    </tr>\n",
              "  </tbody>\n",
              "</table>\n",
              "</div>"
            ],
            "text/plain": [
              "          a         b         c         d         e\n",
              "0 -1.075334 -0.236028  0.581082 -0.580072 -2.079002\n",
              "1 -1.293073  1.134725  0.472532  1.452970 -0.544775\n",
              "2  0.866617  1.024130  0.769944 -0.509043 -0.185709\n",
              "3 -0.259168  0.164433  1.277938 -2.551970 -0.019413\n",
              "4  0.582203  1.579913 -0.522563 -0.151699 -0.108438\n",
              "5 -0.914143 -0.801934 -0.931405 -1.983910 -0.147988\n",
              "6  0.900639 -0.922381  1.205711  0.556313 -0.633686\n",
              "7 -0.099929 -0.685316  2.215074 -1.085490 -1.880266\n",
              "8 -2.008625 -0.349689 -0.407959  0.839538 -1.697807\n",
              "9 -0.763133  0.832593 -0.248014  0.306875  1.555595"
            ]
          },
          "execution_count": 24,
          "metadata": {},
          "output_type": "execute_result"
        }
      ],
      "source": [
        "df3 = pd.DataFrame(np.random.randn(10, 5), columns=['a', 'b', 'c', 'd', 'e'])\n",
        "df3"
      ]
    },
    {
      "cell_type": "code",
      "execution_count": null,
      "metadata": {
        "id": "Ict_lvTlfL_H",
        "outputId": "683de8fc-d5cf-4713-eafd-8223d9a00ddd"
      },
      "outputs": [
        {
          "data": {
            "text/html": [
              "<div>\n",
              "<style scoped>\n",
              "    .dataframe tbody tr th:only-of-type {\n",
              "        vertical-align: middle;\n",
              "    }\n",
              "\n",
              "    .dataframe tbody tr th {\n",
              "        vertical-align: top;\n",
              "    }\n",
              "\n",
              "    .dataframe thead th {\n",
              "        text-align: right;\n",
              "    }\n",
              "</style>\n",
              "<table border=\"1\" class=\"dataframe\">\n",
              "  <thead>\n",
              "    <tr style=\"text-align: right;\">\n",
              "      <th></th>\n",
              "      <th>one</th>\n",
              "      <th>two</th>\n",
              "    </tr>\n",
              "  </thead>\n",
              "  <tbody>\n",
              "    <tr>\n",
              "      <th>a</th>\n",
              "      <td>1.0</td>\n",
              "      <td>1.0</td>\n",
              "    </tr>\n",
              "    <tr>\n",
              "      <th>b</th>\n",
              "      <td>2.0</td>\n",
              "      <td>2.0</td>\n",
              "    </tr>\n",
              "    <tr>\n",
              "      <th>c</th>\n",
              "      <td>3.0</td>\n",
              "      <td>3.0</td>\n",
              "    </tr>\n",
              "    <tr>\n",
              "      <th>d</th>\n",
              "      <td>NaN</td>\n",
              "      <td>4.0</td>\n",
              "    </tr>\n",
              "  </tbody>\n",
              "</table>\n",
              "</div>"
            ],
            "text/plain": [
              "   one  two\n",
              "a  1.0  1.0\n",
              "b  2.0  2.0\n",
              "c  3.0  3.0\n",
              "d  NaN  4.0"
            ]
          },
          "execution_count": 25,
          "metadata": {},
          "output_type": "execute_result"
        }
      ],
      "source": [
        "d = {'one' : pd.Series([1., 2., 3.], index=['a', 'b', 'c']), 'two' : pd.Series([1., 2., 3., 4.], index=['a', 'b', 'c', 'd'])}\n",
        "df = pd.DataFrame(d)\n",
        "df"
      ]
    },
    {
      "cell_type": "code",
      "execution_count": null,
      "metadata": {
        "id": "D1EhiyeufL_H",
        "outputId": "33da1e60-2b82-4d57-cb64-a2635f9d1fd7"
      },
      "outputs": [
        {
          "data": {
            "text/plain": [
              "array([[ 1.,  1.],\n",
              "       [ 2.,  2.],\n",
              "       [ 3.,  3.],\n",
              "       [nan,  4.]])"
            ]
          },
          "execution_count": 26,
          "metadata": {},
          "output_type": "execute_result"
        }
      ],
      "source": [
        "df.values"
      ]
    },
    {
      "cell_type": "code",
      "execution_count": null,
      "metadata": {
        "id": "XebJmrG8fL_H",
        "outputId": "eb0f5fdc-77ed-4589-a5f9-41253e382172"
      },
      "outputs": [
        {
          "data": {
            "text/html": [
              "<div>\n",
              "<style scoped>\n",
              "    .dataframe tbody tr th:only-of-type {\n",
              "        vertical-align: middle;\n",
              "    }\n",
              "\n",
              "    .dataframe tbody tr th {\n",
              "        vertical-align: top;\n",
              "    }\n",
              "\n",
              "    .dataframe thead th {\n",
              "        text-align: right;\n",
              "    }\n",
              "</style>\n",
              "<table border=\"1\" class=\"dataframe\">\n",
              "  <thead>\n",
              "    <tr style=\"text-align: right;\">\n",
              "      <th></th>\n",
              "      <th>one</th>\n",
              "      <th>two</th>\n",
              "    </tr>\n",
              "  </thead>\n",
              "  <tbody>\n",
              "    <tr>\n",
              "      <th>d</th>\n",
              "      <td>NaN</td>\n",
              "      <td>4.0</td>\n",
              "    </tr>\n",
              "    <tr>\n",
              "      <th>b</th>\n",
              "      <td>2.0</td>\n",
              "      <td>2.0</td>\n",
              "    </tr>\n",
              "    <tr>\n",
              "      <th>a</th>\n",
              "      <td>1.0</td>\n",
              "      <td>1.0</td>\n",
              "    </tr>\n",
              "  </tbody>\n",
              "</table>\n",
              "</div>"
            ],
            "text/plain": [
              "   one  two\n",
              "d  NaN  4.0\n",
              "b  2.0  2.0\n",
              "a  1.0  1.0"
            ]
          },
          "execution_count": 27,
          "metadata": {},
          "output_type": "execute_result"
        }
      ],
      "source": [
        "pd.DataFrame(d, index=['d', 'b', 'a'])"
      ]
    },
    {
      "cell_type": "code",
      "execution_count": null,
      "metadata": {
        "id": "aFyHAxrZfL_I",
        "outputId": "43e07e64-e859-4204-ace8-c356769248a7"
      },
      "outputs": [
        {
          "data": {
            "text/plain": [
              "Index(['a', 'b', 'c', 'd'], dtype='object')"
            ]
          },
          "execution_count": 28,
          "metadata": {},
          "output_type": "execute_result"
        }
      ],
      "source": [
        "df.index"
      ]
    },
    {
      "cell_type": "code",
      "execution_count": null,
      "metadata": {
        "id": "s8W-hNXlfL_I",
        "outputId": "0ec4b6a2-bfe8-4453-f680-22a2ba6c885b"
      },
      "outputs": [
        {
          "data": {
            "text/plain": [
              "Index(['one', 'two'], dtype='object')"
            ]
          },
          "execution_count": 29,
          "metadata": {},
          "output_type": "execute_result"
        }
      ],
      "source": [
        "df.columns"
      ]
    },
    {
      "cell_type": "code",
      "execution_count": null,
      "metadata": {
        "id": "4YbkW3z4fL_I",
        "outputId": "bd74391d-a248-4e03-8d4c-9a0169838298"
      },
      "outputs": [
        {
          "data": {
            "text/plain": [
              "False"
            ]
          },
          "execution_count": 30,
          "metadata": {},
          "output_type": "execute_result"
        }
      ],
      "source": [
        "df.index.hasnans"
      ]
    },
    {
      "cell_type": "code",
      "execution_count": null,
      "metadata": {
        "id": "cEbBSX6tfL_I",
        "outputId": "860c0afc-65ba-4c46-a69a-4bc627ef7f68"
      },
      "outputs": [
        {
          "data": {
            "text/html": [
              "<div>\n",
              "<style scoped>\n",
              "    .dataframe tbody tr th:only-of-type {\n",
              "        vertical-align: middle;\n",
              "    }\n",
              "\n",
              "    .dataframe tbody tr th {\n",
              "        vertical-align: top;\n",
              "    }\n",
              "\n",
              "    .dataframe thead th {\n",
              "        text-align: right;\n",
              "    }\n",
              "</style>\n",
              "<table border=\"1\" class=\"dataframe\">\n",
              "  <thead>\n",
              "    <tr style=\"text-align: right;\">\n",
              "      <th></th>\n",
              "      <th>date</th>\n",
              "      <th>variable</th>\n",
              "      <th>value</th>\n",
              "    </tr>\n",
              "  </thead>\n",
              "  <tbody>\n",
              "    <tr>\n",
              "      <th>0</th>\n",
              "      <td>2000-01-03</td>\n",
              "      <td>A</td>\n",
              "      <td>0.469112</td>\n",
              "    </tr>\n",
              "    <tr>\n",
              "      <th>1</th>\n",
              "      <td>2000-01-04</td>\n",
              "      <td>A</td>\n",
              "      <td>-0.282863</td>\n",
              "    </tr>\n",
              "    <tr>\n",
              "      <th>2</th>\n",
              "      <td>2000-01-05</td>\n",
              "      <td>A</td>\n",
              "      <td>-1.509059</td>\n",
              "    </tr>\n",
              "    <tr>\n",
              "      <th>3</th>\n",
              "      <td>2000-01-03</td>\n",
              "      <td>B</td>\n",
              "      <td>-1.135632</td>\n",
              "    </tr>\n",
              "    <tr>\n",
              "      <th>4</th>\n",
              "      <td>2000-01-04</td>\n",
              "      <td>B</td>\n",
              "      <td>1.212112</td>\n",
              "    </tr>\n",
              "    <tr>\n",
              "      <th>5</th>\n",
              "      <td>2000-01-05</td>\n",
              "      <td>B</td>\n",
              "      <td>-0.173215</td>\n",
              "    </tr>\n",
              "    <tr>\n",
              "      <th>6</th>\n",
              "      <td>2000-01-03</td>\n",
              "      <td>C</td>\n",
              "      <td>0.119209</td>\n",
              "    </tr>\n",
              "    <tr>\n",
              "      <th>7</th>\n",
              "      <td>2000-01-04</td>\n",
              "      <td>C</td>\n",
              "      <td>-1.044236</td>\n",
              "    </tr>\n",
              "    <tr>\n",
              "      <th>8</th>\n",
              "      <td>2000-01-05</td>\n",
              "      <td>C</td>\n",
              "      <td>-0.861849</td>\n",
              "    </tr>\n",
              "    <tr>\n",
              "      <th>9</th>\n",
              "      <td>2000-01-03</td>\n",
              "      <td>D</td>\n",
              "      <td>-2.104569</td>\n",
              "    </tr>\n",
              "    <tr>\n",
              "      <th>10</th>\n",
              "      <td>2000-01-04</td>\n",
              "      <td>D</td>\n",
              "      <td>-0.494929</td>\n",
              "    </tr>\n",
              "    <tr>\n",
              "      <th>11</th>\n",
              "      <td>2000-01-05</td>\n",
              "      <td>D</td>\n",
              "      <td>1.071804</td>\n",
              "    </tr>\n",
              "  </tbody>\n",
              "</table>\n",
              "</div>"
            ],
            "text/plain": [
              "          date variable     value\n",
              "0   2000-01-03        A  0.469112\n",
              "1   2000-01-04        A -0.282863\n",
              "2   2000-01-05        A -1.509059\n",
              "3   2000-01-03        B -1.135632\n",
              "4   2000-01-04        B  1.212112\n",
              "5   2000-01-05        B -0.173215\n",
              "6   2000-01-03        C  0.119209\n",
              "7   2000-01-04        C -1.044236\n",
              "8   2000-01-05        C -0.861849\n",
              "9   2000-01-03        D -2.104569\n",
              "10  2000-01-04        D -0.494929\n",
              "11  2000-01-05        D  1.071804"
            ]
          },
          "execution_count": 31,
          "metadata": {},
          "output_type": "execute_result"
        }
      ],
      "source": [
        "dfc = pd.read_csv('./data1.csv')\n",
        "dfc"
      ]
    },
    {
      "cell_type": "code",
      "execution_count": null,
      "metadata": {
        "id": "aUxK_GfMfL_J",
        "outputId": "d5409d04-60dc-4c83-ee64-273de18498c2"
      },
      "outputs": [
        {
          "data": {
            "text/plain": [
              "0      True\n",
              "1      True\n",
              "2      True\n",
              "3     False\n",
              "4     False\n",
              "5     False\n",
              "6     False\n",
              "7     False\n",
              "8     False\n",
              "9     False\n",
              "10    False\n",
              "11    False\n",
              "Name: variable, dtype: bool"
            ]
          },
          "execution_count": 32,
          "metadata": {},
          "output_type": "execute_result"
        }
      ],
      "source": [
        "dfc['variable'] == 'A'"
      ]
    },
    {
      "cell_type": "code",
      "execution_count": null,
      "metadata": {
        "id": "97iqYt0_fL_J",
        "outputId": "3743a091-3d80-492b-c4a2-ffa83cb87db8"
      },
      "outputs": [
        {
          "data": {
            "text/html": [
              "<div>\n",
              "<style scoped>\n",
              "    .dataframe tbody tr th:only-of-type {\n",
              "        vertical-align: middle;\n",
              "    }\n",
              "\n",
              "    .dataframe tbody tr th {\n",
              "        vertical-align: top;\n",
              "    }\n",
              "\n",
              "    .dataframe thead th {\n",
              "        text-align: right;\n",
              "    }\n",
              "</style>\n",
              "<table border=\"1\" class=\"dataframe\">\n",
              "  <thead>\n",
              "    <tr style=\"text-align: right;\">\n",
              "      <th></th>\n",
              "      <th>date</th>\n",
              "      <th>variable</th>\n",
              "      <th>value</th>\n",
              "    </tr>\n",
              "  </thead>\n",
              "  <tbody>\n",
              "    <tr>\n",
              "      <th>0</th>\n",
              "      <td>2000-01-03</td>\n",
              "      <td>A</td>\n",
              "      <td>0.469112</td>\n",
              "    </tr>\n",
              "    <tr>\n",
              "      <th>1</th>\n",
              "      <td>2000-01-04</td>\n",
              "      <td>A</td>\n",
              "      <td>-0.282863</td>\n",
              "    </tr>\n",
              "    <tr>\n",
              "      <th>2</th>\n",
              "      <td>2000-01-05</td>\n",
              "      <td>A</td>\n",
              "      <td>-1.509059</td>\n",
              "    </tr>\n",
              "  </tbody>\n",
              "</table>\n",
              "</div>"
            ],
            "text/plain": [
              "         date variable     value\n",
              "0  2000-01-03        A  0.469112\n",
              "1  2000-01-04        A -0.282863\n",
              "2  2000-01-05        A -1.509059"
            ]
          },
          "execution_count": 33,
          "metadata": {},
          "output_type": "execute_result"
        }
      ],
      "source": [
        "dfc[dfc['variable'] == 'A']"
      ]
    },
    {
      "cell_type": "code",
      "execution_count": null,
      "metadata": {
        "id": "hwxclGEWfL_J",
        "outputId": "f366a100-e2d7-4204-a2fc-c4d3d0ca5fce"
      },
      "outputs": [
        {
          "data": {
            "text/html": [
              "<div>\n",
              "<style scoped>\n",
              "    .dataframe tbody tr th:only-of-type {\n",
              "        vertical-align: middle;\n",
              "    }\n",
              "\n",
              "    .dataframe tbody tr th {\n",
              "        vertical-align: top;\n",
              "    }\n",
              "\n",
              "    .dataframe thead th {\n",
              "        text-align: right;\n",
              "    }\n",
              "</style>\n",
              "<table border=\"1\" class=\"dataframe\">\n",
              "  <thead>\n",
              "    <tr style=\"text-align: right;\">\n",
              "      <th>variable</th>\n",
              "      <th>A</th>\n",
              "      <th>B</th>\n",
              "      <th>C</th>\n",
              "      <th>D</th>\n",
              "    </tr>\n",
              "    <tr>\n",
              "      <th>date</th>\n",
              "      <th></th>\n",
              "      <th></th>\n",
              "      <th></th>\n",
              "      <th></th>\n",
              "    </tr>\n",
              "  </thead>\n",
              "  <tbody>\n",
              "    <tr>\n",
              "      <th>2000-01-03</th>\n",
              "      <td>0.469112</td>\n",
              "      <td>-1.135632</td>\n",
              "      <td>0.119209</td>\n",
              "      <td>-2.104569</td>\n",
              "    </tr>\n",
              "    <tr>\n",
              "      <th>2000-01-04</th>\n",
              "      <td>-0.282863</td>\n",
              "      <td>1.212112</td>\n",
              "      <td>-1.044236</td>\n",
              "      <td>-0.494929</td>\n",
              "    </tr>\n",
              "    <tr>\n",
              "      <th>2000-01-05</th>\n",
              "      <td>-1.509059</td>\n",
              "      <td>-0.173215</td>\n",
              "      <td>-0.861849</td>\n",
              "      <td>1.071804</td>\n",
              "    </tr>\n",
              "  </tbody>\n",
              "</table>\n",
              "</div>"
            ],
            "text/plain": [
              "variable           A         B         C         D\n",
              "date                                              \n",
              "2000-01-03  0.469112 -1.135632  0.119209 -2.104569\n",
              "2000-01-04 -0.282863  1.212112 -1.044236 -0.494929\n",
              "2000-01-05 -1.509059 -0.173215 -0.861849  1.071804"
            ]
          },
          "execution_count": 34,
          "metadata": {},
          "output_type": "execute_result"
        }
      ],
      "source": [
        "dfc.pivot(index='date', columns='variable', values='value')"
      ]
    },
    {
      "cell_type": "code",
      "execution_count": null,
      "metadata": {
        "id": "tPyF52D5fL_J",
        "outputId": "c06a3bf4-d995-4014-ee8c-fe83a7b6a6f0"
      },
      "outputs": [
        {
          "data": {
            "text/html": [
              "<div>\n",
              "<style scoped>\n",
              "    .dataframe tbody tr th:only-of-type {\n",
              "        vertical-align: middle;\n",
              "    }\n",
              "\n",
              "    .dataframe tbody tr th {\n",
              "        vertical-align: top;\n",
              "    }\n",
              "\n",
              "    .dataframe thead th {\n",
              "        text-align: right;\n",
              "    }\n",
              "</style>\n",
              "<table border=\"1\" class=\"dataframe\">\n",
              "  <thead>\n",
              "    <tr style=\"text-align: right;\">\n",
              "      <th></th>\n",
              "      <th>value</th>\n",
              "    </tr>\n",
              "  </thead>\n",
              "  <tbody>\n",
              "    <tr>\n",
              "      <th>count</th>\n",
              "      <td>12.000000</td>\n",
              "    </tr>\n",
              "    <tr>\n",
              "      <th>mean</th>\n",
              "      <td>-0.394510</td>\n",
              "    </tr>\n",
              "    <tr>\n",
              "      <th>std</th>\n",
              "      <td>1.007649</td>\n",
              "    </tr>\n",
              "    <tr>\n",
              "      <th>min</th>\n",
              "      <td>-2.104569</td>\n",
              "    </tr>\n",
              "    <tr>\n",
              "      <th>25%</th>\n",
              "      <td>-1.067085</td>\n",
              "    </tr>\n",
              "    <tr>\n",
              "      <th>50%</th>\n",
              "      <td>-0.388896</td>\n",
              "    </tr>\n",
              "    <tr>\n",
              "      <th>75%</th>\n",
              "      <td>0.206685</td>\n",
              "    </tr>\n",
              "    <tr>\n",
              "      <th>max</th>\n",
              "      <td>1.212112</td>\n",
              "    </tr>\n",
              "  </tbody>\n",
              "</table>\n",
              "</div>"
            ],
            "text/plain": [
              "           value\n",
              "count  12.000000\n",
              "mean   -0.394510\n",
              "std     1.007649\n",
              "min    -2.104569\n",
              "25%    -1.067085\n",
              "50%    -0.388896\n",
              "75%     0.206685\n",
              "max     1.212112"
            ]
          },
          "execution_count": 35,
          "metadata": {},
          "output_type": "execute_result"
        }
      ],
      "source": [
        "dfc.describe()"
      ]
    }
  ],
  "metadata": {
    "anaconda-cloud": {},
    "kernelspec": {
      "display_name": "Python 3 (ipykernel)",
      "language": "python",
      "name": "python3"
    },
    "language_info": {
      "codemirror_mode": {
        "name": "ipython",
        "version": 3
      },
      "file_extension": ".py",
      "mimetype": "text/x-python",
      "name": "python",
      "nbconvert_exporter": "python",
      "pygments_lexer": "ipython3",
      "version": "3.8.8"
    },
    "colab": {
      "provenance": [],
      "include_colab_link": true
    }
  },
  "nbformat": 4,
  "nbformat_minor": 0
}